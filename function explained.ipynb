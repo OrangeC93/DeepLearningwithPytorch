{
 "cells": [
  {
   "cell_type": "markdown",
   "metadata": {},
   "source": [
    "### .detach() \n",
    "\n",
    "- 当我们再训练网络的时候可能希望保持一部分的网络参数不变，只对其中一部分的参数进行调整\n",
    "- 或者值训练部分分支网络，并不让其梯度对主网络的梯度造成影响，这时候我们就需要使用detach()函数来切断一些分支的反向传播\n",
    "\n",
    "\n",
    "1. tensor.detach() creates a tensor that shares storage with tensor that does not require grad. tensor.clone()creates a copy of tensor that imitates the original tensor's requires_grad field.\n",
    "You should use detach() when attempting to remove a tensor from a computation graph, and clone as a way to copy the tensor while still keeping the copy as a part of the computation graph it came from.\n",
    "\n",
    "2. tensor.data returns a new tensor that shares storage with tensor. However, it always has requires_grad=False (even if the original tensor had requires_grad=True\n",
    "\n",
    "\n",
    "http://www.bnikolic.co.uk/blog/pytorch-detach.html#:~:targetText=The%20detach()%20method%20constructs,visualised%20using%20the%20torchviz%20package.\n",
    "\n",
    "https://www.cnblogs.com/wanghui-garcia/p/10677071.html"
   ]
  },
  {
   "cell_type": "code",
   "execution_count": 5,
   "metadata": {},
   "outputs": [
    {
     "name": "stdout",
     "output_type": "stream",
     "text": [
      "tensor([1., 2., 3.], requires_grad=True)\n",
      "None\n",
      "\n",
      "\n",
      "tensor([0.7311, 0.8808, 0.9526], grad_fn=<SigmoidBackward>)\n",
      "\n",
      "\n",
      "None\n",
      "tensor([0.1966, 0.1050, 0.0452])\n"
     ]
    }
   ],
   "source": [
    "import torch\n",
    "\n",
    "a = torch.tensor([1,2,3.], requires_grad=True)\n",
    "print(a)\n",
    "print(a.grad)\n",
    "print('\\n')\n",
    "\n",
    "out = a.sigmoid()\n",
    "print(out)\n",
    "print('\\n')\n",
    "\n",
    "print(out.sum().backward())\n",
    "print(a.grad)"
   ]
  },
  {
   "cell_type": "code",
   "execution_count": 34,
   "metadata": {},
   "outputs": [
    {
     "name": "stdout",
     "output_type": "stream",
     "text": [
      "None\n",
      "tensor([0.7311, 0.8808, 0.9526], grad_fn=<SigmoidBackward>)\n",
      "tensor([0.7311, 0.8808, 0.9526])\n",
      "tensor([0.1966, 0.1050, 0.0452])\n"
     ]
    }
   ],
   "source": [
    "import torch\n",
    "\n",
    "a = torch.tensor([1, 2, 3.], requires_grad=True)\n",
    "print(a.grad)\n",
    "out = a.sigmoid()\n",
    "print(out)\n",
    "\n",
    "#添加detach(),c的requires_grad为False\n",
    "c = out.detach()\n",
    "print(c)\n",
    "\n",
    "#这时候没有对c进行更改，所以并不会影响backward()\n",
    "out.sum().backward()\n",
    "print(a.grad)"
   ]
  },
  {
   "cell_type": "code",
   "execution_count": 18,
   "metadata": {},
   "outputs": [
    {
     "name": "stdout",
     "output_type": "stream",
     "text": [
      "None\n",
      "tensor([0.7311, 0.8808, 0.9526], grad_fn=<SigmoidBackward>)\n",
      "tensor([0.7311, 0.8808, 0.9526])\n"
     ]
    },
    {
     "ename": "RuntimeError",
     "evalue": "element 0 of tensors does not require grad and does not have a grad_fn",
     "output_type": "error",
     "traceback": [
      "\u001b[0;31m---------------------------------------------------------------------------\u001b[0m",
      "\u001b[0;31mRuntimeError\u001b[0m                              Traceback (most recent call last)",
      "\u001b[0;32m<ipython-input-18-faf247dbdd6a>\u001b[0m in \u001b[0;36m<module>\u001b[0;34m\u001b[0m\n\u001b[1;32m     13\u001b[0m \u001b[0;31m#可见c,out之间的区别是c是没有梯度的，out是有梯度的\u001b[0m\u001b[0;34m\u001b[0m\u001b[0;34m\u001b[0m\u001b[0m\n\u001b[1;32m     14\u001b[0m \u001b[0;31m#如果这里使用的是c进行sum()操作并进行backward()，则会报错\u001b[0m\u001b[0;34m\u001b[0m\u001b[0;34m\u001b[0m\u001b[0m\n\u001b[0;32m---> 15\u001b[0;31m \u001b[0mc\u001b[0m\u001b[0;34m.\u001b[0m\u001b[0msum\u001b[0m\u001b[0;34m(\u001b[0m\u001b[0;34m)\u001b[0m\u001b[0;34m.\u001b[0m\u001b[0mbackward\u001b[0m\u001b[0;34m(\u001b[0m\u001b[0;34m)\u001b[0m\u001b[0;34m\u001b[0m\u001b[0m\n\u001b[0m\u001b[1;32m     16\u001b[0m \u001b[0mprint\u001b[0m\u001b[0;34m(\u001b[0m\u001b[0ma\u001b[0m\u001b[0;34m.\u001b[0m\u001b[0mgrad\u001b[0m\u001b[0;34m)\u001b[0m\u001b[0;34m\u001b[0m\u001b[0m\n",
      "\u001b[0;32m/Library/Frameworks/Python.framework/Versions/3.7/lib/python3.7/site-packages/torch/tensor.py\u001b[0m in \u001b[0;36mbackward\u001b[0;34m(self, gradient, retain_graph, create_graph)\u001b[0m\n\u001b[1;32m    164\u001b[0m                 \u001b[0mproducts\u001b[0m\u001b[0;34m.\u001b[0m \u001b[0mDefaults\u001b[0m \u001b[0mto\u001b[0m\u001b[0;31m \u001b[0m\u001b[0;31m`\u001b[0m\u001b[0;31m`\u001b[0m\u001b[0;32mFalse\u001b[0m\u001b[0;31m`\u001b[0m\u001b[0;31m`\u001b[0m\u001b[0;34m.\u001b[0m\u001b[0;34m\u001b[0m\u001b[0m\n\u001b[1;32m    165\u001b[0m         \"\"\"\n\u001b[0;32m--> 166\u001b[0;31m         \u001b[0mtorch\u001b[0m\u001b[0;34m.\u001b[0m\u001b[0mautograd\u001b[0m\u001b[0;34m.\u001b[0m\u001b[0mbackward\u001b[0m\u001b[0;34m(\u001b[0m\u001b[0mself\u001b[0m\u001b[0;34m,\u001b[0m \u001b[0mgradient\u001b[0m\u001b[0;34m,\u001b[0m \u001b[0mretain_graph\u001b[0m\u001b[0;34m,\u001b[0m \u001b[0mcreate_graph\u001b[0m\u001b[0;34m)\u001b[0m\u001b[0;34m\u001b[0m\u001b[0m\n\u001b[0m\u001b[1;32m    167\u001b[0m \u001b[0;34m\u001b[0m\u001b[0m\n\u001b[1;32m    168\u001b[0m     \u001b[0;32mdef\u001b[0m \u001b[0mregister_hook\u001b[0m\u001b[0;34m(\u001b[0m\u001b[0mself\u001b[0m\u001b[0;34m,\u001b[0m \u001b[0mhook\u001b[0m\u001b[0;34m)\u001b[0m\u001b[0;34m:\u001b[0m\u001b[0;34m\u001b[0m\u001b[0m\n",
      "\u001b[0;32m/Library/Frameworks/Python.framework/Versions/3.7/lib/python3.7/site-packages/torch/autograd/__init__.py\u001b[0m in \u001b[0;36mbackward\u001b[0;34m(tensors, grad_tensors, retain_graph, create_graph, grad_variables)\u001b[0m\n\u001b[1;32m     97\u001b[0m     Variable._execution_engine.run_backward(\n\u001b[1;32m     98\u001b[0m         \u001b[0mtensors\u001b[0m\u001b[0;34m,\u001b[0m \u001b[0mgrad_tensors\u001b[0m\u001b[0;34m,\u001b[0m \u001b[0mretain_graph\u001b[0m\u001b[0;34m,\u001b[0m \u001b[0mcreate_graph\u001b[0m\u001b[0;34m,\u001b[0m\u001b[0;34m\u001b[0m\u001b[0m\n\u001b[0;32m---> 99\u001b[0;31m         allow_unreachable=True)  # allow_unreachable flag\n\u001b[0m\u001b[1;32m    100\u001b[0m \u001b[0;34m\u001b[0m\u001b[0m\n\u001b[1;32m    101\u001b[0m \u001b[0;34m\u001b[0m\u001b[0m\n",
      "\u001b[0;31mRuntimeError\u001b[0m: element 0 of tensors does not require grad and does not have a grad_fn"
     ]
    }
   ],
   "source": [
    "import torch\n",
    "\n",
    "a = torch.tensor([1, 2, 3.], requires_grad=True)\n",
    "print(a.grad)\n",
    "out = a.sigmoid()\n",
    "print(out)\n",
    "\n",
    "#添加detach(),c的requires_grad为False\n",
    "c = out.detach()\n",
    "print(c)\n",
    "\n",
    "#使用新生成的Variable进行反向传播\n",
    "#可见c,out之间的区别是c是没有梯度的，out是有梯度的\n",
    "#如果这里使用的是c进行sum()操作并进行backward()，则会报错\n",
    "c.sum().backward()\n",
    "print(a.grad)"
   ]
  },
  {
   "cell_type": "code",
   "execution_count": 43,
   "metadata": {},
   "outputs": [
    {
     "name": "stdout",
     "output_type": "stream",
     "text": [
      "None\n",
      "tensor([0.7311, 0.8808, 0.9526], grad_fn=<SigmoidBackward>)\n",
      "tensor([0.7311, 0.8808, 0.9526])\n",
      "tensor([0., 0., 0.])\n",
      "tensor([0., 0., 0.], grad_fn=<SigmoidBackward>)\n",
      "None\n"
     ]
    }
   ],
   "source": [
    "import torch\n",
    "\n",
    "a = torch.tensor([1, 2, 3.], requires_grad=True)\n",
    "print(a.grad)\n",
    "out = a.sigmoid()\n",
    "print(out)\n",
    "\n",
    "#添加detach(),c的requires_grad为False\n",
    "c = out.detach()\n",
    "print(c)\n",
    "c.zero_() #使用in place函数对其进行修改\n",
    "\n",
    "\n",
    "#会发现c的修改同时会影响out的值\n",
    "print(c)\n",
    "print(out)\n",
    "\n",
    "\n",
    "#这时候对c进行更改，所以会影响backward()，这时候就不能进行backward()，会报错\n",
    "out.sum().backward()\n",
    "print(a.grad)"
   ]
  },
  {
   "cell_type": "markdown",
   "metadata": {},
   "source": [
    "### .data\n",
    "\n",
    "如果上面的操作使用的是.data，效果会不同：\n",
    "\n",
    "这里的不同在于.data的修改不会被autograd追踪，这样当进行backward()时它不会报错，回得到一个错误的backward值"
   ]
  },
  {
   "cell_type": "code",
   "execution_count": 23,
   "metadata": {},
   "outputs": [
    {
     "name": "stdout",
     "output_type": "stream",
     "text": [
      "None\n",
      "tensor([0.7311, 0.8808, 0.9526], grad_fn=<SigmoidBackward>)\n",
      "tensor(2.5644, grad_fn=<SumBackward0>)\n",
      "tensor([0.7311, 0.8808, 0.9526])\n",
      "tensor([0., 0., 0.])\n",
      "tensor([0., 0., 0.], grad_fn=<SigmoidBackward>)\n",
      "tensor([0., 0., 0.])\n"
     ]
    }
   ],
   "source": [
    "import torch\n",
    "\n",
    "a = torch.tensor([1, 2, 3.], requires_grad=True)\n",
    "print(a.grad)\n",
    "out = a.sigmoid()\n",
    "print(out)\n",
    "\n",
    "c = out.data\n",
    "print(c)\n",
    "c.zero_() #使用in place函数对其进行修改\n",
    "\n",
    "#会发现c的修改同时也会影响out的值\n",
    "print(c)\n",
    "print(out) \n",
    "\n",
    "#这里的不同在于.data的修改不会被autograd追踪，这样当进行backward()时它不会报错，回得到一个错误的backward值\n",
    "out.sum().backward()\n",
    "print(a.grad)"
   ]
  },
  {
   "cell_type": "code",
   "execution_count": 24,
   "metadata": {},
   "outputs": [
    {
     "name": "stdout",
     "output_type": "stream",
     "text": [
      "None\n",
      "tensor(2.5644, grad_fn=<SumBackward0>)\n",
      "tensor(2.5644)\n",
      "tensor(0.)\n",
      "tensor(0., grad_fn=<SumBackward0>)\n",
      "tensor([0.1966, 0.1050, 0.0452])\n"
     ]
    }
   ],
   "source": [
    "import torch\n",
    "\n",
    "a = torch.tensor([1, 2, 3.], requires_grad=True)\n",
    "print(a.grad)\n",
    "out = a.sigmoid().sum() #但是如果sum写在这里，而不是写在backward()前，得到的结果是正确的\n",
    "print(out)\n",
    "\n",
    "\n",
    "c = out.data\n",
    "print(c)\n",
    "c.zero_() #使用in place函数对其进行修改\n",
    "\n",
    "#会发现c的修改同时也会影响out的值\n",
    "print(c)\n",
    "print(out)\n",
    "\n",
    "#没有写在这里\n",
    "out.backward()\n",
    "print(a.grad)"
   ]
  },
  {
   "cell_type": "markdown",
   "metadata": {},
   "source": [
    "### Summary\n",
    "\n",
    "1. .detach() and .data change(change means in_place change, like .zero()) will change out values, but .data change will not influence out.sum().backward().\n",
    "\n",
    "2. If out.sum() in front of these changes(change means in_place change, like .zero()), out.sum().backward can be executed even if .detach() and .data change."
   ]
  },
  {
   "cell_type": "code",
   "execution_count": 71,
   "metadata": {},
   "outputs": [
    {
     "name": "stdout",
     "output_type": "stream",
     "text": [
      "tensor([0.7311, 0.8808, 0.9526], grad_fn=<SigmoidBackward>)\n",
      "tensor([0., 0., 0.], grad_fn=<SigmoidBackward>)\n",
      "tensor([0., 0., 0.])\n"
     ]
    }
   ],
   "source": [
    "import torch\n",
    "\n",
    "a = torch.tensor([1, 2, 3.], requires_grad=True)\n",
    "out = a.sigmoid()\n",
    "print(out)\n",
    "\n",
    "# c1 = out.detach()\n",
    "# c1.zero_()\n",
    "# # c1 = torch.tensor([1, 2, 3.])\n",
    "# print(out)\n",
    "\n",
    "c2 = out.data\n",
    "c2.zero_()\n",
    "# c2 = torch.tensor([1, 2, 3.])\n",
    "print(out)\n",
    "\n",
    "out.sum().backward()\n",
    "print(a.grad)"
   ]
  },
  {
   "cell_type": "code",
   "execution_count": 74,
   "metadata": {},
   "outputs": [
    {
     "name": "stdout",
     "output_type": "stream",
     "text": [
      "tensor(2.5644, grad_fn=<SumBackward0>)\n",
      "tensor(0., grad_fn=<SumBackward0>)\n",
      "tensor([0.1966, 0.1050, 0.0452])\n"
     ]
    }
   ],
   "source": [
    "import torch\n",
    "\n",
    "a = torch.tensor([1, 2, 3.], requires_grad=True)\n",
    "out = a.sigmoid().sum()\n",
    "print(out)\n",
    "\n",
    "c1 = out.detach()\n",
    "c1.zero_()\n",
    "# c1 = torch.tensor([1, 2, 3.])\n",
    "print(out)\n",
    "\n",
    "# c2 = out.data\n",
    "# c2.zero_()\n",
    "# # c2 = torch.tensor([1, 2, 3.])\n",
    "# print(out)\n",
    "\n",
    "out.backward()\n",
    "print(a.grad)"
   ]
  }
 ],
 "metadata": {
  "kernelspec": {
   "display_name": "Python 3",
   "language": "python",
   "name": "python3"
  },
  "language_info": {
   "codemirror_mode": {
    "name": "ipython",
    "version": 3
   },
   "file_extension": ".py",
   "mimetype": "text/x-python",
   "name": "python",
   "nbconvert_exporter": "python",
   "pygments_lexer": "ipython3",
   "version": "3.7.0"
  }
 },
 "nbformat": 4,
 "nbformat_minor": 2
}
