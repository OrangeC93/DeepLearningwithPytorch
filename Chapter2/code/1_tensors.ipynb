{
 "cells": [
  {
   "cell_type": "code",
   "execution_count": 1,
   "metadata": {},
   "outputs": [],
   "source": [
    "# https://github.com/deep-learning-with-pytorch/dlwpt-code/blob/master/p1ch3/1_tensors.ipynb"
   ]
  },
  {
   "cell_type": "markdown",
   "metadata": {},
   "source": [
    "# Suboptimal to use python list to store the vector\n",
    "1. Numbers in python are full fledged objects.\n",
    "![figure](pictures/tensor_unboxed.png)\n",
    "2. Lists in Python are meant for sequential collection of objects. (No operations are defined, no memory optimization and 1 dimensional)\n",
    "3. Python interpreter is slow compared with optimized, compiled code."
   ]
  },
  {
   "cell_type": "code",
   "execution_count": 5,
   "metadata": {},
   "outputs": [
    {
     "name": "stdout",
     "output_type": "stream",
     "text": [
      "1.0\n",
      "[1.0, 2.0, 3.0]\n"
     ]
    }
   ],
   "source": [
    "a = [1.0, 2.0, 1.0]\n",
    "\n",
    "# access an element\n",
    "print(a[0])\n",
    "# assign a new value\n",
    "a[2] = 3.0\n",
    "print(a)"
   ]
  },
  {
   "cell_type": "markdown",
   "metadata": {},
   "source": [
    "# 2.1 Introduce dedicated data structures: PyTorch tensors"
   ]
  },
  {
   "cell_type": "code",
   "execution_count": 6,
   "metadata": {},
   "outputs": [],
   "source": [
    "import torch"
   ]
  },
  {
   "cell_type": "code",
   "execution_count": 8,
   "metadata": {},
   "outputs": [
    {
     "name": "stdout",
     "output_type": "stream",
     "text": [
      "tensor([1., 1., 1.])\n",
      "tensor(1.)\n",
      "1.0\n",
      "tensor([1., 1., 2.])\n"
     ]
    }
   ],
   "source": [
    "a = torch.ones(3)\n",
    "\n",
    "print(a)\n",
    "print(a[1])\n",
    "print(float(a[1]))\n",
    "a[2] = 2.0\n",
    "print(a)"
   ]
  },
  {
   "cell_type": "code",
   "execution_count": 13,
   "metadata": {},
   "outputs": [
    {
     "name": "stdout",
     "output_type": "stream",
     "text": [
      "tensor([1., 4., 2., 1., 3., 5.])\n",
      "1.0 4.0\n"
     ]
    }
   ],
   "source": [
    "# overwrite those zeros with the values you want\n",
    "points = torch.zeros(6)\n",
    "points[0] = 1.0\n",
    "points[1] = 4.0\n",
    "points[2] = 2.0\n",
    "points[3] = 1.0\n",
    "points[4] = 3.0\n",
    "points[5] = 5.0\n",
    "\n",
    "#  pass a list \n",
    "points = torch.tensor([1.0, 4.0, 2.0, 1.0, 3.0, 5.0])\n",
    "print(points)\n",
    "print(float(points[0]), float(points[1]))"
   ]
  },
  {
   "cell_type": "code",
   "execution_count": 20,
   "metadata": {},
   "outputs": [
    {
     "name": "stdout",
     "output_type": "stream",
     "text": [
      "tensor([[1., 4.],\n",
      "        [2., 1.],\n",
      "        [3., 5.]])\n",
      "torch.Size([3, 2])\n",
      "torch.Size([3, 2])\n",
      "tensor([[0., 0.],\n",
      "        [0., 0.],\n",
      "        [0., 0.]])\n",
      "tensor([[1., 4.],\n",
      "        [2., 1.],\n",
      "        [3., 5.]])\n",
      "tensor(4.)\n",
      "tensor([1., 4.])\n"
     ]
    }
   ],
   "source": [
    "# pass a list of list\n",
    "points = torch.tensor([[1.0, 4.0], [2.0, 1.0], [3.0, 5.0]])\n",
    "print(points)\n",
    "print(points.shape)\n",
    "print(points.size())\n",
    "\n",
    "# initialize a tensor\n",
    "points = torch.zeros(3, 2) \n",
    "print(points)\n",
    "\n",
    "# access elements\n",
    "points = torch.FloatTensor([[1.0, 4.0], [2.0, 1.0], [3.0, 5.0]]) \n",
    "print(points)\n",
    "print(points[0,1])\n",
    "print(points[0])"
   ]
  },
  {
   "cell_type": "markdown",
   "metadata": {},
   "source": [
    "# 2.2 Tensors and storages\n",
    "- A storage is a one-dimensional array of numerical data, such as a contiguous block of memory containing numbers of a given type, perhaps a float or int32.\n",
    "- Multiple tensors can index the same storage even if they index into the data differ- ently. \n",
    "![figure](pictures/storage.png)"
   ]
  },
  {
   "cell_type": "code",
   "execution_count": 34,
   "metadata": {},
   "outputs": [
    {
     "name": "stdout",
     "output_type": "stream",
     "text": [
      " 1.0\n",
      " 4.0\n",
      " 2.0\n",
      " 1.0\n",
      " 3.0\n",
      " 5.0\n",
      "[torch.FloatStorage of size 6]\n",
      "1.0\n",
      "4.0\n"
     ]
    }
   ],
   "source": [
    "points = torch.tensor([[1.0, 4.0], [2.0, 1.0], [3.0, 5.0]])\n",
    "\n",
    "# access\n",
    "points_storage = points.storage() \n",
    "print(points_storage)\n",
    "print(points_storage[0])\n",
    "print(points.storage()[1])"
   ]
  },
  {
   "cell_type": "code",
   "execution_count": 24,
   "metadata": {},
   "outputs": [
    {
     "name": "stdout",
     "output_type": "stream",
     "text": [
      "tensor([[2., 4.],\n",
      "        [2., 1.],\n",
      "        [3., 5.]])\n"
     ]
    }
   ],
   "source": [
    "# replace elements\n",
    "points = torch.tensor([[1.0, 4.0], [2.0, 1.0], [3.0, 5.0]]) \n",
    "points_storage = points.storage()\n",
    "points_storage[0] = 2.0\n",
    "print(points)"
   ]
  },
  {
   "cell_type": "markdown",
   "metadata": {},
   "source": [
    "# 2.3 Size, storage offset, and strides\n",
    "- Size: tuple indicating how many elements across each dimension the tensor represents.\n",
    "- Storage offset: index in the storage that corresponds to the first elements in the tensor.\n",
    "![figure](pictures/size_storage_stride.png)\n",
    "- Stride: number of elements in the storage that need to be skipped to obtain the next element along each dimension."
   ]
  },
  {
   "cell_type": "code",
   "execution_count": 35,
   "metadata": {},
   "outputs": [
    {
     "name": "stdout",
     "output_type": "stream",
     "text": [
      "2\n",
      "tensor([2., 1.])\n",
      "torch.Size([2])\n",
      "torch.Size([2])\n",
      "torch.Size([2])\n",
      "(2, 1)\n",
      "(1,)\n"
     ]
    }
   ],
   "source": [
    "points = torch.tensor([[1.0, 4.0], [2.0, 1.0], [3.0, 5.0]]) \n",
    "second_point = points[1]\n",
    "print(second_point.storage_offset())\n",
    "\n",
    "print(second_point)\n",
    "print(second_point.size())\n",
    "print(second_point.shape)\n",
    "print(torch.Size([2]))\n",
    "\n",
    "print(points.stride())\n",
    "print(second_point.stride())"
   ]
  },
  {
   "cell_type": "code",
   "execution_count": 38,
   "metadata": {},
   "outputs": [
    {
     "name": "stdout",
     "output_type": "stream",
     "text": [
      "tensor([[ 1.,  4.],\n",
      "        [10.,  1.],\n",
      "        [ 3.,  5.]])\n",
      "tensor([[ 1.,  4.],\n",
      "        [10.,  1.],\n",
      "        [ 3.,  5.]])\n"
     ]
    }
   ],
   "source": [
    "points = torch.tensor([[1.0, 4.0], [2.0, 1.0], [3.0, 5.0]]) \n",
    "# repalce value\n",
    "second_point = points[1]\n",
    "second_point[0] = 10.0\n",
    "print(points)\n",
    "\n",
    "# cannot replace value\n",
    "second_point = points[1].clone()\n",
    "second_point[0] = 10.0\n",
    "print(points)"
   ]
  },
  {
   "cell_type": "code",
   "execution_count": 45,
   "metadata": {},
   "outputs": [
    {
     "name": "stdout",
     "output_type": "stream",
     "text": [
      "tensor([[1., 4.],\n",
      "        [2., 1.],\n",
      "        [3., 5.]])\n",
      "tensor([[1., 2., 3.],\n",
      "        [4., 1., 5.]])\n",
      "True\n",
      " 1.0\n",
      " 4.0\n",
      " 2.0\n",
      " 1.0\n",
      " 3.0\n",
      " 5.0\n",
      "[torch.FloatStorage of size 6]\n",
      " 1.0\n",
      " 4.0\n",
      " 2.0\n",
      " 1.0\n",
      " 3.0\n",
      " 5.0\n",
      "[torch.FloatStorage of size 6]\n",
      "(2, 1) (1, 2)\n"
     ]
    }
   ],
   "source": [
    "# transpose\n",
    "points = torch.tensor([[1.0, 4.0], [2.0, 1.0], [3.0, 5.0]]) \n",
    "print(points)\n",
    "\n",
    "points_t = points.t()\n",
    "print(points_t)\n",
    "\n",
    "# verify two tensors share storage\n",
    "print(id(points.storage()) == id(points_t.storage()))\n",
    "print(points.storage())\n",
    "print(points_t.storage())\n",
    "# differ\n",
    "print(points.stride(), points_t.stride())"
   ]
  },
  {
   "cell_type": "code",
   "execution_count": 53,
   "metadata": {},
   "outputs": [
    {
     "name": "stdout",
     "output_type": "stream",
     "text": [
      "tensor([[1., 2., 3.],\n",
      "        [4., 1., 5.]])\n",
      "tensor([[1., 2., 3.],\n",
      "        [4., 1., 5.]])\n",
      "(3, 1)\n",
      " 1.0\n",
      " 2.0\n",
      " 3.0\n",
      " 4.0\n",
      " 1.0\n",
      " 5.0\n",
      "[torch.FloatStorage of size 6]\n"
     ]
    }
   ],
   "source": [
    "print(points_t)\n",
    "# obtain a new contiguous tensor from a noncontiguous one by using the con- tiguous method\n",
    "# the content of the tensor stays the same, but the stride changes, as does the storage\n",
    "points_t_cont = points_t.contiguous() \n",
    "print(points_t_cont)\n",
    "print(points_t_cont.stride())\n",
    "\n",
    "# storage has been reshuffled\n",
    "print(points_t_cont.storage())"
   ]
  },
  {
   "cell_type": "markdown",
   "metadata": {},
   "source": [
    "# 2.4 Numeric types\n",
    "![figure](pictures/dtypes.png)"
   ]
  },
  {
   "cell_type": "code",
   "execution_count": 61,
   "metadata": {},
   "outputs": [
    {
     "name": "stdout",
     "output_type": "stream",
     "text": [
      "torch.float64\n",
      "torch.int16\n",
      "torch.float64\n",
      "torch.int16\n"
     ]
    }
   ],
   "source": [
    "double_points = torch.ones(10, 2, dtype=torch.double) \n",
    "short_points = torch.tensor([[1, 2], [3, 4]], dtype=torch.short)\n",
    "\n",
    "print(double_points.dtype)\n",
    "print(short_points.dtype)\n",
    "\n",
    "# or\n",
    "double_points = torch.zeros(10, 2).double() \n",
    "short_points = torch.ones(10, 2).short()\n",
    "\n",
    "# convert\n",
    "double_points = torch.zeros(10, 2).to(torch.double) \n",
    "short_points = torch.ones(10, 2).to(dtype=torch.short)"
   ]
  },
  {
   "cell_type": "markdown",
   "metadata": {},
   "source": [
    "# 2.5 Indexing tensors"
   ]
  },
  {
   "cell_type": "markdown",
   "metadata": {},
   "source": [
    "# 2.6 Numpy interoperability"
   ]
  },
  {
   "cell_type": "code",
   "execution_count": 64,
   "metadata": {},
   "outputs": [
    {
     "name": "stdout",
     "output_type": "stream",
     "text": [
      "[[1. 1. 1. 1.]\n",
      " [1. 1. 1. 1.]\n",
      " [1. 1. 1. 1.]]\n",
      "tensor([[1., 1., 1., 1.],\n",
      "        [1., 1., 1., 1.],\n",
      "        [1., 1., 1., 1.]])\n"
     ]
    }
   ],
   "source": [
    "points = torch.ones(3, 4)\n",
    "# tensor -> numpy (saved in CPU)\n",
    "points_np = points.numpy() \n",
    "print(points_np)\n",
    "\n",
    "# numpy -> tensor\n",
    "points = torch.from_numpy(points_np)\n",
    "print(points)"
   ]
  },
  {
   "cell_type": "markdown",
   "metadata": {},
   "source": [
    "# 2.7 Serializing tensors\n",
    "\n",
    "PyTorch uses pickle under the hood to serialize the tensor object, as well as dedicated serialization code for the storage. "
   ]
  },
  {
   "cell_type": "code",
   "execution_count": null,
   "metadata": {},
   "outputs": [],
   "source": [
    "# save\n",
    "torch.save(points, '../data/p1ch3/ourpoints.t')\n",
    "with open('../data/p1ch3/ourpoints.t','wb') as f:\n",
    "    torch.save(points, f)\n",
    "    \n",
    "# read   \n",
    "points = torch.load('../data/p1ch3/ourpoints.t')\n",
    "with open('../data/p1ch3/ourpoints.t','rb') as f:\n",
    "    points = torch.load(f)\n",
    "\n"
   ]
  },
  {
   "cell_type": "code",
   "execution_count": null,
   "metadata": {},
   "outputs": [],
   "source": [
    "# h5py (save your points tensor by converting it to a NumPy array)\n",
    "# save\n",
    "f = h5py.File('../data/p1ch3/ourpoints.hdf5', 'w') \n",
    "dset = f.create_dataset('coords', data=points.numpy()) \n",
    "f.close()\n",
    "\n",
    "# read\n",
    "f = h5py.File('../data/p1ch3/ourpoints.hdf5', 'r') dset = f['coords']\n",
    "last_points = dset[1:]"
   ]
  },
  {
   "cell_type": "markdown",
   "metadata": {},
   "source": [
    "# Moving tensors to GPU"
   ]
  },
  {
   "cell_type": "code",
   "execution_count": null,
   "metadata": {},
   "outputs": [],
   "source": [
    "points_gpu = torch.tensor([[1.0, 4.0], [2.0, 1.0], [3.0, 4.0]],\n",
    "device='cuda')\n",
    "\n",
    "points_gpu = points.to(device='cuda')\n",
    "points_gpu = points.to(device='cuda:0')"
   ]
  },
  {
   "cell_type": "code",
   "execution_count": null,
   "metadata": {},
   "outputs": [],
   "source": [
    "points = 2 * points\n",
    "points_gpu = 2 * points.to(device='cuda')\n",
    "points_gpu = points_gpu + 4\n",
    "points_cpu = points_gpu.to(device='cpu')\n",
    "\n",
    "points_gpu = points.cuda()\n",
    "points_gpu = points.cuda(0)\n",
    "points_cpu = points_gpu.cpu()"
   ]
  }
 ],
 "metadata": {
  "kernelspec": {
   "display_name": "Python 3",
   "language": "python",
   "name": "python3"
  },
  "language_info": {
   "codemirror_mode": {
    "name": "ipython",
    "version": 3
   },
   "file_extension": ".py",
   "mimetype": "text/x-python",
   "name": "python",
   "nbconvert_exporter": "python",
   "pygments_lexer": "ipython3",
   "version": "3.7.0"
  }
 },
 "nbformat": 4,
 "nbformat_minor": 2
}
